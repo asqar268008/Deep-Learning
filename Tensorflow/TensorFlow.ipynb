{
  "cells": [
    {
      "cell_type": "code",
      "execution_count": 1,
      "metadata": {
        "id": "oPFm6ZQiLRhR"
      },
      "outputs": [],
      "source": [
        "import tensorflow as tf"
      ]
    },
    {
      "cell_type": "code",
      "execution_count": 2,
      "metadata": {
        "id": "K-I9B-w16ogJ"
      },
      "outputs": [],
      "source": [
        "string = tf.Variable(\"this is a string\", tf.string)\n",
        "number = tf.Variable(324, tf.int16)\n",
        "floating = tf.Variable(3.567, tf.float64)"
      ]
    },
    {
      "cell_type": "code",
      "execution_count": 3,
      "metadata": {
        "colab": {
          "base_uri": "https://localhost:8080/"
        },
        "id": "o-civ9oa6t5f",
        "outputId": "47ddf073-c9c1-4eb7-c956-e770d52e9c27"
      },
      "outputs": [
        {
          "name": "stdout",
          "output_type": "stream",
          "text": [
            "<tf.Variable 'Variable:0' shape=() dtype=string, numpy=b'this is a string'>\n",
            "<tf.Variable 'Variable:0' shape=() dtype=int32, numpy=324>\n",
            "<tf.Variable 'Variable:0' shape=() dtype=float32, numpy=3.566999912261963>\n"
          ]
        }
      ],
      "source": [
        "print(string)\n",
        "print(number)\n",
        "print(floating)"
      ]
    },
    {
      "cell_type": "code",
      "execution_count": 4,
      "metadata": {
        "id": "DD5PixXd6xim"
      },
      "outputs": [],
      "source": [
        "rank1 = tf.Variable([\"asqar\"], tf.string)\n",
        "rank2= tf.Variable([['asqar', 'raqsa'], ['mohamad', 'dammahom']], tf.string)"
      ]
    },
    {
      "cell_type": "code",
      "execution_count": 5,
      "metadata": {
        "colab": {
          "base_uri": "https://localhost:8080/"
        },
        "id": "wod5PUX77UZX",
        "outputId": "5af6b1eb-5d97-4ac1-9d60-46982b2d1fb8"
      },
      "outputs": [
        {
          "name": "stdout",
          "output_type": "stream",
          "text": [
            "<tf.Variable 'Variable:0' shape=(1,) dtype=string, numpy=array([b'asqar'], dtype=object)> \n",
            " <tf.Variable 'Variable:0' shape=(2, 2) dtype=string, numpy=\n",
            "array([[b'asqar', b'raqsa'],\n",
            "       [b'mohamad', b'dammahom']], dtype=object)>\n"
          ]
        }
      ],
      "source": [
        "print(rank1,\"\\n\",rank2)"
      ]
    },
    {
      "cell_type": "code",
      "execution_count": 6,
      "metadata": {
        "colab": {
          "base_uri": "https://localhost:8080/"
        },
        "id": "r2JsKxfS8Hdc",
        "outputId": "da8290e4-79b2-48ad-fd9c-2075dbc3068f"
      },
      "outputs": [
        {
          "data": {
            "text/plain": [
              "<tf.Tensor: shape=(), dtype=int32, numpy=2>"
            ]
          },
          "execution_count": 6,
          "metadata": {},
          "output_type": "execute_result"
        }
      ],
      "source": [
        "tf.rank(rank2)"
      ]
    },
    {
      "cell_type": "code",
      "execution_count": 7,
      "metadata": {
        "colab": {
          "base_uri": "https://localhost:8080/"
        },
        "id": "E6uSfDXe8Z0N",
        "outputId": "f08add1e-2b5e-4734-ffa9-c06085106333"
      },
      "outputs": [
        {
          "data": {
            "text/plain": [
              "TensorShape([2, 2])"
            ]
          },
          "execution_count": 7,
          "metadata": {},
          "output_type": "execute_result"
        }
      ],
      "source": [
        "rank2.shape"
      ]
    },
    {
      "cell_type": "code",
      "execution_count": 8,
      "metadata": {
        "colab": {
          "base_uri": "https://localhost:8080/"
        },
        "id": "sSOW_8EG8oXF",
        "outputId": "059be9e7-5d99-4e41-c8e9-de4d5b377f3f"
      },
      "outputs": [
        {
          "name": "stdout",
          "output_type": "stream",
          "text": [
            "tf.Tensor(\n",
            "[[[1. 1. 1.]\n",
            "  [1. 1. 1.]]], shape=(1, 2, 3), dtype=float32) \n",
            " tf.Tensor(\n",
            "[[[1.]\n",
            "  [1.]\n",
            "  [1.]]\n",
            "\n",
            " [[1.]\n",
            "  [1.]\n",
            "  [1.]]], shape=(2, 3, 1), dtype=float32) \n",
            " tf.Tensor(\n",
            "[[1. 1.]\n",
            " [1. 1.]\n",
            " [1. 1.]], shape=(3, 2), dtype=float32)\n"
          ]
        }
      ],
      "source": [
        "tf1 = tf.ones([1,2,3])\n",
        "tf2 = tf.reshape(tf1, [2,3,1])\n",
        "tf3 = tf.reshape(tf1, [3,-1])\n",
        "print(tf1,\"\\n\",tf2,\"\\n\",tf3)"
      ]
    },
    {
      "cell_type": "code",
      "execution_count": 9,
      "metadata": {
        "id": "ldzA9nWy9A5c"
      },
      "outputs": [],
      "source": [
        "metrics = [[1,2,3,4,5],\n",
        "           [6,7,8,9,10],\n",
        "           [11,12,13,14,15],\n",
        "           [16,17,18,19,20]]\n",
        "tensor = tf.Variable(metrics,dtype=tf.int32)"
      ]
    },
    {
      "cell_type": "code",
      "execution_count": 10,
      "metadata": {
        "colab": {
          "base_uri": "https://localhost:8080/"
        },
        "id": "VfmZZPye90KN",
        "outputId": "a6bce035-c4b0-42da-c4d2-a89d7b9afb19"
      },
      "outputs": [
        {
          "name": "stdout",
          "output_type": "stream",
          "text": [
            "tf.Tensor(2, shape=(), dtype=int32)\n",
            "tf.Tensor(3, shape=(), dtype=int32)\n",
            "tf.Tensor([1 2 3 4 5], shape=(5,), dtype=int32)\n",
            "tf.Tensor([ 1  6 11 16], shape=(4,), dtype=int32)\n",
            "tf.Tensor(\n",
            "[[ 6  7  8  9 10]\n",
            " [16 17 18 19 20]], shape=(2, 5), dtype=int32)\n",
            "tf.Tensor([ 6 11], shape=(2,), dtype=int32)\n"
          ]
        }
      ],
      "source": [
        "print(tf.rank(tensor))\n",
        "##(row, col)\n",
        "print(tensor[0,2]) #select element from the one row\n",
        "print(tensor[0]) #select first row\n",
        "print(tensor[:,0]) #select first column\n",
        "print(tensor[1::2]) #select second and fourth row\n",
        "print(tensor[1:3, 0]) #select col1 in row2 and 3"
      ]
    }
  ],
  "metadata": {
    "accelerator": "GPU",
    "colab": {
      "gpuType": "T4",
      "provenance": []
    },
    "kernelspec": {
      "display_name": "Python 3",
      "name": "python3"
    },
    "language_info": {
      "name": "python"
    }
  },
  "nbformat": 4,
  "nbformat_minor": 0
}
