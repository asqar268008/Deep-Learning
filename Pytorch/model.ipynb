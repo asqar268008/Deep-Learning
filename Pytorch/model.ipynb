{
 "cells": [
  {
   "cell_type": "code",
   "execution_count": 1,
   "id": "42e0c996",
   "metadata": {},
   "outputs": [],
   "source": [
    "import torch\n",
    "import torch.nn as nn\n",
    "import torch.nn.functional as F\n",
    "import torchvision\n",
    "import torchvision.transforms as transforms\n",
    "from torch.utils.data import DataLoader\n",
    "from torch.utils.tensorboard import SummaryWriter\n",
    "from sklearn.metrics import accuracy_score, precision_score, recall_score, f1_score, confusion_matrix, classification_report\n",
    "import matplotlib.pyplot as plt\n",
    "import seaborn as sns"
   ]
  },
  {
   "cell_type": "code",
   "execution_count": 2,
   "id": "c6b8551e",
   "metadata": {},
   "outputs": [],
   "source": [
    "train_transform = transforms.Compose([\n",
    "    transforms.Resize((224, 224)),         \n",
    "    transforms.RandomHorizontalFlip(),     \n",
    "    transforms.ToTensor(),\n",
    "    transforms.Normalize(mean=[0.5, 0.5, 0.5],\n",
    "                         std=[0.5, 0.5, 0.5]) \n",
    "])\n",
    "\n",
    "test_transform = transforms.Compose([\n",
    "    transforms.Resize((224, 224)),\n",
    "    transforms.ToTensor(),\n",
    "    transforms.Normalize(mean=[0.5, 0.5, 0.5],\n",
    "                         std=[0.5, 0.5, 0.5])\n",
    "])"
   ]
  },
  {
   "cell_type": "code",
   "execution_count": 3,
   "id": "a4f63107",
   "metadata": {},
   "outputs": [],
   "source": [
    "train_data = torchvision.datasets.ImageFolder(\n",
    "    root=\"Dataset/training\",\n",
    "    transform=train_transform\n",
    ")\n",
    "\n",
    "test_data = torchvision.datasets.ImageFolder(\n",
    "    root=\"Dataset/testing\",\n",
    "    transform=test_transform\n",
    ")\n",
    "\n",
    "trainloader = DataLoader(train_data, batch_size=32, shuffle=True, num_workers=2)\n",
    "testloader = DataLoader(test_data, batch_size=32, shuffle=False, num_workers=2)"
   ]
  },
  {
   "cell_type": "code",
   "execution_count": 4,
   "id": "757b18f4",
   "metadata": {},
   "outputs": [
    {
     "name": "stdout",
     "output_type": "stream",
     "text": [
      "Classes: ['glioma', 'meningioma', 'notumor', 'pituitary']\n"
     ]
    }
   ],
   "source": [
    "classes = train_data.classes\n",
    "print(\"Classes:\", classes)"
   ]
  },
  {
   "cell_type": "code",
   "execution_count": 5,
   "id": "8cd93a4f",
   "metadata": {},
   "outputs": [],
   "source": [
    "class Net(nn.Module):\n",
    "    def __init__(self):\n",
    "        super(Net, self).__init__()\n",
    "        self.conv1 = nn.Conv2d(3, 6, 5)\n",
    "        self.pool = nn.MaxPool2d(2, 2)\n",
    "        self.conv2 = nn.Conv2d(6, 16, 5)\n",
    "        self._to_linear = None\n",
    "        self.convs(torch.randn(1, 3, 224, 224)) \n",
    "        self.fc1 = nn.Linear(self._to_linear, 120)\n",
    "        self.fc2 = nn.Linear(120, 84)\n",
    "        self.fc3 = nn.Linear(84, 4)\n",
    "\n",
    "    def convs(self, x):\n",
    "        x = self.pool(F.relu(self.conv1(x)))\n",
    "        x = self.pool(F.relu(self.conv2(x)))\n",
    "        if self._to_linear is None:\n",
    "            self._to_linear = x.view(-1).shape[0]\n",
    "        return x\n",
    "\n",
    "    def forward(self, x):\n",
    "        x = self.convs(x)\n",
    "        x = x.view(x.size(0), -1)  \n",
    "        x = F.relu(self.fc1(x))\n",
    "        x = F.relu(self.fc2(x))\n",
    "        x = self.fc3(x)\n",
    "        return x\n",
    "    \n",
    "net = Net()"
   ]
  },
  {
   "cell_type": "code",
   "execution_count": 6,
   "id": "86c2b652",
   "metadata": {},
   "outputs": [],
   "source": [
    "criterion = nn.CrossEntropyLoss()\n",
    "optimizer = torch.optim.Adam(net.parameters(), lr=0.001)\n",
    "writer = SummaryWriter(\"runs/brain_tumor\")\n",
    "\n",
    "images, labels = next(iter(trainloader))\n",
    "grid = torchvision.utils.make_grid(images)\n",
    "writer.add_image('images', grid)\n",
    "writer.add_graph(net, images)"
   ]
  },
  {
   "cell_type": "code",
   "execution_count": 7,
   "id": "67cc7a24",
   "metadata": {},
   "outputs": [
    {
     "name": "stdout",
     "output_type": "stream",
     "text": [
      "Epoch 1/10, Loss: 0.684, Train Acc: 72.67%\n",
      "Validation Loss: 0.476, Validation Acc: 79.48%\n",
      "Epoch 2/10, Loss: 0.366, Train Acc: 85.99%\n",
      "Validation Loss: 0.308, Validation Acc: 87.64%\n",
      "Epoch 3/10, Loss: 0.231, Train Acc: 91.19%\n",
      "Validation Loss: 0.215, Validation Acc: 91.38%\n",
      "Epoch 4/10, Loss: 0.152, Train Acc: 94.08%\n",
      "Validation Loss: 0.155, Validation Acc: 94.28%\n",
      "Epoch 5/10, Loss: 0.103, Train Acc: 96.39%\n",
      "Validation Loss: 0.146, Validation Acc: 94.66%\n",
      "Epoch 6/10, Loss: 0.075, Train Acc: 97.39%\n",
      "Validation Loss: 0.225, Validation Acc: 93.82%\n",
      "Epoch 7/10, Loss: 0.064, Train Acc: 97.79%\n",
      "Validation Loss: 0.138, Validation Acc: 95.88%\n",
      "Epoch 8/10, Loss: 0.045, Train Acc: 98.81%\n",
      "Validation Loss: 0.096, Validation Acc: 97.25%\n",
      "Epoch 9/10, Loss: 0.035, Train Acc: 98.70%\n",
      "Validation Loss: 0.139, Validation Acc: 96.95%\n",
      "Epoch 10/10, Loss: 0.028, Train Acc: 99.05%\n",
      "Validation Loss: 0.108, Validation Acc: 97.10%\n"
     ]
    }
   ],
   "source": [
    "epochs = 10\n",
    "for epoch in range(epochs):\n",
    "    net.train()\n",
    "    running_loss = 0.0\n",
    "    correct, total = 0, 0\n",
    "    \n",
    "    for images, labels in trainloader:\n",
    "        optimizer.zero_grad() # reset gradients\n",
    "        outputs = net(images) # forward pass\n",
    "        loss = criterion(outputs, labels) # compute loss\n",
    "        loss.backward() # backpropagation\n",
    "        optimizer.step() # update weights\n",
    "        \n",
    "        running_loss += loss.item() # accumulate loss\n",
    "        _, predicted = torch.max(outputs, 1) \n",
    "        total += labels.size(0) # total samples\n",
    "        correct += (predicted == labels).sum().item() # correct predictions\n",
    "    \n",
    "    acc = 100 * correct / total\n",
    "    avg_loss = running_loss / len(trainloader)\n",
    "    print(f\"Epoch {epoch+1}/{epochs}, Loss: {avg_loss:.3f}, Train Acc: {acc:.2f}%\")\n",
    "    \n",
    "    writer.add_scalar(\"Loss/train\", avg_loss, epoch)\n",
    "    writer.add_scalar(\"Accuracy/train\", acc, epoch)\n",
    "\n",
    "    net.eval()\n",
    "    val_loss_running, val_correct, val_total = 0.0, 0, 0\n",
    "    y_true, y_pred = [], []\n",
    "    with torch.no_grad():\n",
    "        for images, labels in testloader:\n",
    "            outputs = net(images)\n",
    "            loss = criterion(outputs, labels)\n",
    "            val_loss_running += loss.item()\n",
    "\n",
    "            _, predicted = torch.max(outputs, 1)\n",
    "            val_total += labels.size(0)\n",
    "            val_correct += (predicted == labels).sum().item()\n",
    "\n",
    "            y_true.extend(labels.numpy())\n",
    "            y_pred.extend(predicted.numpy())\n",
    "\n",
    "    val_loss = val_loss_running / len(testloader)\n",
    "    val_acc = 100 * val_correct / val_total\n",
    "    print(f\"Validation Loss: {val_loss:.3f}, Validation Acc: {val_acc:.2f}%\")\n",
    "\n",
    "    writer.add_scalar(\"Loss/validation\", val_loss, epoch)\n",
    "    writer.add_scalar(\"Accuracy/validation\", val_acc, epoch)"
   ]
  },
  {
   "cell_type": "code",
   "execution_count": 8,
   "id": "57dad68f",
   "metadata": {},
   "outputs": [
    {
     "name": "stdout",
     "output_type": "stream",
     "text": [
      "\n",
      "Performance Metrics:\n",
      "Accuracy:  97.10%\n",
      "Precision: 97.26%\n",
      "Recall:    97.10%\n",
      "F1-score:  97.09%\n",
      "\n",
      "Classification Report:\n",
      "               precision    recall  f1-score   support\n",
      "\n",
      "      glioma       0.99      0.90      0.94       300\n",
      "  meningioma       0.91      0.98      0.94       306\n",
      "     notumor       0.99      1.00      1.00       405\n",
      "   pituitary       0.99      1.00      1.00       300\n",
      "\n",
      "    accuracy                           0.97      1311\n",
      "   macro avg       0.97      0.97      0.97      1311\n",
      "weighted avg       0.97      0.97      0.97      1311\n",
      "\n"
     ]
    }
   ],
   "source": [
    "acc = accuracy_score(y_true, y_pred)\n",
    "prec = precision_score(y_true, y_pred, average='weighted')\n",
    "rec = recall_score(y_true, y_pred, average='weighted')\n",
    "f1 = f1_score(y_true, y_pred, average='weighted')\n",
    "\n",
    "print(\"\\nPerformance Metrics:\")\n",
    "print(f\"Accuracy:  {acc*100:.2f}%\")\n",
    "print(f\"Precision: {prec*100:.2f}%\")\n",
    "print(f\"Recall:    {rec*100:.2f}%\")\n",
    "print(f\"F1-score:  {f1*100:.2f}%\")\n",
    "print(\"\\nClassification Report:\\n\", classification_report(y_true, y_pred, target_names=classes))"
   ]
  },
  {
   "cell_type": "code",
   "execution_count": 9,
   "id": "bc3b0602",
   "metadata": {},
   "outputs": [
    {
     "data": {
      "image/png": "[encoded data removed]",
      "text/plain": [
       "<Figure size 600x500 with 2 Axes>"
      ]
     },
     "metadata": {},
     "output_type": "display_data"
    }
   ],
   "source": [
    "cm = confusion_matrix(y_true, y_pred)\n",
    "plt.figure(figsize=(6,5))\n",
    "sns.heatmap(cm, annot=True, fmt='d', cmap=\"Blues\", xticklabels=classes, yticklabels=classes)\n",
    "plt.xlabel(\"Predicted\")\n",
    "plt.ylabel(\"True\")\n",
    "plt.title(\"Confusion Matrix\")\n",
    "plt.show()"
   ]
  },
  {
   "cell_type": "code",
   "execution_count": 10,
   "id": "a68c6902",
   "metadata": {},
   "outputs": [
    {
     "name": "stdout",
     "output_type": "stream",
     "text": [
      "Model saved as model.pth\n"
     ]
    }
   ],
   "source": [
    "torch.save(net.state_dict(), \"model.pth\")\n",
    "print(\"Model saved as model.pth\")"
   ]
  },
  {
   "cell_type": "code",
   "execution_count": null,
   "id": "9b54c0ca",
   "metadata": {},
   "outputs": [],
   "source": [
    "writer.close()"
   ]
  }
 ],
 "metadata": {
  "kernelspec": {
   "display_name": "Python 3",
   "language": "python",
   "name": "python3"
  },
  "language_info": {
   "codemirror_mode": {
    "name": "ipython",
    "version": 3
   },
   "file_extension": ".py",
   "mimetype": "text/x-python",
   "name": "python",
   "nbconvert_exporter": "python",
   "pygments_lexer": "ipython3",
   "version": "3.12.10"
  }
 },
 "nbformat": 4,
 "nbformat_minor": 5
}
